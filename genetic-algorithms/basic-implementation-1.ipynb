{
 "cells": [
  {
   "cell_type": "markdown",
   "metadata": {},
   "source": [
    "### Implementación Básica\n",
    "- Maximizar función f(x) = x**2"
   ]
  },
  {
   "cell_type": "code",
   "execution_count": 2,
   "metadata": {},
   "outputs": [],
   "source": [
    "import random"
   ]
  },
  {
   "cell_type": "code",
   "execution_count": 3,
   "metadata": {},
   "outputs": [],
   "source": [
    "# función objetivo\n",
    "def fitness_function(x):\n",
    "    return x**2\n",
    "\n",
    "# generar población inicial\n",
    "def generate_population(size, gene_length):\n",
    "    return [random.randint(0, 2**gene_length - 1) for _ in range(size)]\n",
    "\n",
    "# selección por ruleta\n",
    "def select_parents(population, fitnesses):\n",
    "    total_fitness = sum(fitnesses)\n",
    "    probabilities = [f / total_fitness for f in fitnesses]\n",
    "    return random.choices(population, probabilities, k=2)\n",
    "\n",
    "# cruce de un punto\n",
    "def crossover(parent1, parent2, gene_length):\n",
    "    point = random.randint(1, gene_length - 1)\n",
    "    mask = (1 << point) - 1\n",
    "    child1 = (parent1 & mask) | (parent2 & ~mask)\n",
    "    child2 = (parent2 & mask) | (parent1 & ~mask)\n",
    "    return child1, child2\n",
    "\n",
    "# mutación\n",
    "def mutate(individual, gene_length, mutation_rate=0.01):\n",
    "    for i in range(gene_length):\n",
    "        if random.random() < mutation_rate:\n",
    "            individual ^= (1 << i) # flip bit\n",
    "    return individual"
   ]
  },
  {
   "cell_type": "code",
   "execution_count": 6,
   "metadata": {},
   "outputs": [],
   "source": [
    "# algoritmo\n",
    "population = [random.randint(0, 2**4 - 1) for _ in range(10)]"
   ]
  },
  {
   "cell_type": "code",
   "execution_count": 14,
   "metadata": {},
   "outputs": [
    {
     "data": {
      "text/plain": [
       "[12, 8]"
      ]
     },
     "execution_count": 14,
     "metadata": {},
     "output_type": "execute_result"
    }
   ],
   "source": [
    "# selección por ruleta\n",
    "\n",
    "fitnesses = [fitness_function(i) for i in population]\n",
    "\n",
    "total_fitness = sum(fitnesses)\n",
    "probabilities = [f / total_fitness for f in fitnesses]\n",
    "random.choices(population, probabilities, k=2)"
   ]
  },
  {
   "cell_type": "code",
   "execution_count": 13,
   "metadata": {},
   "outputs": [
    {
     "data": {
      "text/plain": [
       "[0.11671469740634005,\n",
       " 0.17435158501440923,\n",
       " 0.07060518731988473,\n",
       " 0.0,\n",
       " 0.09221902017291066,\n",
       " 0.207492795389049,\n",
       " 0.023054755043227664,\n",
       " 0.07060518731988473,\n",
       " 0.07060518731988473,\n",
       " 0.17435158501440923]"
      ]
     },
     "execution_count": 13,
     "metadata": {},
     "output_type": "execute_result"
    }
   ],
   "source": [
    "# cruce de un punto\n",
    "def crossover(parent1, parent2, gene_length):\n",
    "    point = random.randint(1, gene_length - 1)\n",
    "    mask = (1 << point) - 1\n",
    "    child1 = (parent1 & mask) | (parent2 & ~mask)\n",
    "    child2 = (parent2 & mask) | (parent1 & ~mask)\n",
    "    return child1, child2\n"
   ]
  }
 ],
 "metadata": {
  "kernelspec": {
   "display_name": ".venv",
   "language": "python",
   "name": "python3"
  },
  "language_info": {
   "codemirror_mode": {
    "name": "ipython",
    "version": 3
   },
   "file_extension": ".py",
   "mimetype": "text/x-python",
   "name": "python",
   "nbconvert_exporter": "python",
   "pygments_lexer": "ipython3",
   "version": "3.9.5"
  }
 },
 "nbformat": 4,
 "nbformat_minor": 2
}
