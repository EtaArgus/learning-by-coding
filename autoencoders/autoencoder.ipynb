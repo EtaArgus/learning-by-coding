{
 "cells": [
  {
   "cell_type": "code",
   "execution_count": 3,
   "metadata": {},
   "outputs": [],
   "source": [
    "import torch\n",
    "import torch.nn as nn\n",
    "import torch.optim as optim\n",
    "from torchvision import datasets, transforms"
   ]
  },
  {
   "cell_type": "code",
   "execution_count": 4,
   "metadata": {},
   "outputs": [],
   "source": [
    "# Define the VAE architecture\n",
    "class VAE(nn.Module):\n",
    "    def __init__(self):\n",
    "        super(VAE, self).__init__()\n",
    "\n",
    "        # Encoder: input -> Latent space\n",
    "        self.encoder = nn.Sequential(\n",
    "            nn.Linear(28*28, 400),\n",
    "            nn.ReLU(),\n",
    "            nn.Linear(400, 20) # Outputs both mean and Log(variance)\n",
    "        )\n",
    "\n",
    "        # Separate Layers for the mean and Log-variance\n",
    "        self.fc_mu = nn.Linear(400, 20)\n",
    "        self.fc_logvar = nn.Linear(400, 20)\n",
    "\n",
    "        # Decoder: Latent space -> output\n",
    "        self.decoder = nn.Sequential(\n",
    "            nn.Linear(20, 400),\n",
    "            nn.ReLU(),\n",
    "            nn.Linear(400, 28*28),\n",
    "            nn.Sigmoid()\n",
    "        )\n",
    "\n",
    "        def encode(self, x):\n",
    "            h = torch.relu(self.encoder(x))\n",
    "            mu = self.fc_mu(h)\n",
    "            logvar = self.fc_logvar(h)\n",
    "\n",
    "        def reparameterize(self, mu, logvar):\n",
    "            std = torch.exp(0.5*logvar) # Convert Log(variance) to standard deviation\n",
    "            eps = torch.randn_like(std) # Sample from a standard normal distribution\n",
    "            return mu + eps*std # Reparameterization trick\n",
    "\n",
    "        def decode(self, z):\n",
    "            return self.decoder(z)\n",
    "\n",
    "        def forward(self, x):\n",
    "            mu, logvar = self.encode(x)\n",
    "            z = self.reparameterize(mu, logvar)\n",
    "            return self.decode(z), mu, logvar"
   ]
  },
  {
   "cell_type": "code",
   "execution_count": null,
   "metadata": {},
   "outputs": [],
   "source": []
  }
 ],
 "metadata": {
  "kernelspec": {
   "display_name": ".venv",
   "language": "python",
   "name": "python3"
  },
  "language_info": {
   "codemirror_mode": {
    "name": "ipython",
    "version": 3
   },
   "file_extension": ".py",
   "mimetype": "text/x-python",
   "name": "python",
   "nbconvert_exporter": "python",
   "pygments_lexer": "ipython3",
   "version": "3.9.5"
  }
 },
 "nbformat": 4,
 "nbformat_minor": 2
}
