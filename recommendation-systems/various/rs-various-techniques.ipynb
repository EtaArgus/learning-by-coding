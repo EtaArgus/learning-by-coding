{
 "cells": [
  {
   "cell_type": "code",
   "execution_count": 2,
   "metadata": {},
   "outputs": [],
   "source": [
    "# import libraries\n",
    "import numpy as np\n",
    "import pandas as pd\n",
    "from sklearn.metrics.pairwise import cosine_similarity\n",
    "from sklearn.feature_extraction.text import TfidfVectorizer\n",
    "from sklearn.decomposition import TruncatedSVD\n",
    "from tensorflow.keras.models import Sequential\n",
    "from tensorflow.keras.layers import Dense\n",
    "from scipy.sparse import csr_matrix\n",
    "from implicit.als import AlternatingLeastSquares"
   ]
  },
  {
   "cell_type": "code",
   "execution_count": 11,
   "metadata": {},
   "outputs": [],
   "source": [
    "# create toy dataset\n",
    "users = ['ElComoVan', 'Estean', 'Gregorio', 'Cris', 'Isra', 'DonSeas', 'Pavan']\n",
    "items = ['whiskey', 'chela', 'anvurgesa', 'cheesecake', 'piscola']\n",
    "ratings = np.array([\n",
    "    [4, 3, 0, 5, 0],\n",
    "    [5, 0, 4, 0, 2],\n",
    "    [3, 1, 2, 4, 0],\n",
    "    [0, 0, 0, 2, 1],\n",
    "    [1, 0, 3, 4, 5],\n",
    "    [0, 5, 0, 4, 0],\n",
    "    [0, 0, 3, 5, 0]\n",
    "])\n",
    "\n",
    "df = pd.DataFrame(ratings, columns=items, index=users)"
   ]
  },
  {
   "cell_type": "markdown",
   "metadata": {},
   "source": [
    "1. Filtro Colaborativo"
   ]
  },
  {
   "cell_type": "code",
   "execution_count": 15,
   "metadata": {},
   "outputs": [],
   "source": [
    "user_similarities = cosine_similarity(df)\n",
    "user_similarity_scores = user_similarities[df.index.get_loc('Cris')]\n",
    "similar_users = df.index[user_similarity_scores.argsort()[::-1][1:3]]\n",
    "\n",
    "similar_users = df.index[]\n"
   ]
  },
  {
   "cell_type": "code",
   "execution_count": 16,
   "metadata": {},
   "outputs": [
    {
     "data": {
      "text/plain": [
       "array([4, 6], dtype=int64)"
      ]
     },
     "execution_count": 16,
     "metadata": {},
     "output_type": "execute_result"
    }
   ],
   "source": [
    "user_similarity_scores.argsort()[::-1][1:3]"
   ]
  },
  {
   "cell_type": "code",
   "execution_count": null,
   "metadata": {},
   "outputs": [],
   "source": []
  }
 ],
 "metadata": {
  "kernelspec": {
   "display_name": "venv",
   "language": "python",
   "name": "python3"
  },
  "language_info": {
   "codemirror_mode": {
    "name": "ipython",
    "version": 3
   },
   "file_extension": ".py",
   "mimetype": "text/x-python",
   "name": "python",
   "nbconvert_exporter": "python",
   "pygments_lexer": "ipython3",
   "version": "3.10.8"
  }
 },
 "nbformat": 4,
 "nbformat_minor": 2
}
