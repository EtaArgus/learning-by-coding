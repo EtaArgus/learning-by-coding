{
 "cells": [
  {
   "cell_type": "markdown",
   "metadata": {},
   "source": [
    "# The Simplest GNN\n"
   ]
  },
  {
   "cell_type": "markdown",
   "metadata": {},
   "source": [
    "### Code Structure\n",
    "\n",
    "1. Crear el objeto graph\n",
    "\n",
    "   - Parámetros\n",
    "     - Nodos\n",
    "       - Features\n",
    "     - Edges\n",
    "       - Adjacency list\n",
    "       - Features\n",
    "     - Global features\n",
    "       - Features\n",
    "\n",
    "2. Crear objeto MLP\n"
   ]
  },
  {
   "cell_type": "code",
   "execution_count": 1,
   "metadata": {},
   "outputs": [],
   "source": [
    "import numpy as np\n",
    "import pandas as pd\n",
    "import networkx as nx\n",
    "import matplotlib.pyplot as plt"
   ]
  },
  {
   "cell_type": "code",
   "execution_count": 54,
   "metadata": {},
   "outputs": [],
   "source": [
    "# Graph class\n",
    "import numpy as np\n",
    "from typing import List, Union\n",
    "\n",
    "class Graph:\n",
    "    def __init__(self, \n",
    "                 nodes_features: Union[np.ndarray, List[List[float]]], \n",
    "                 adjacency_list: Union[List[List[int]], dict], \n",
    "                 edges_features: Union[np.ndarray, List[float]], \n",
    "                 global_features: Union[np.ndarray, List[float]]):\n",
    "        \"\"\"\n",
    "        Initialize a graph object.\n",
    "\n",
    "        Args:\n",
    "        - nodes_features (np.ndarray or list of lists): Node features.\n",
    "        - adjacency_list (list of lists or dict): Adjacency list representation of the graph.\n",
    "        - edges_features (np.ndarray or list of floats): Edge features.\n",
    "        - global_features (np.ndarray or list of floats): Global features.\n",
    "        \"\"\"\n",
    "        self._nodes_features = nodes_features\n",
    "        self._adjacency_list = adjacency_list\n",
    "        self._edges_features = edges_features\n",
    "        self._global_features = global_features\n",
    "\n",
    "        self._num_nodes = self._get_num_nodes()\n",
    "        self._num_edges = self._get_num_edges()\n",
    "        self._nodes_feat_dim = self._get_nodes_feat_dim()\n",
    "        self._edges_feat_dim = self._get_edges_feat_dim()\n",
    "        self._global_feat_dim = self._get_global_feat_dim()\n",
    "\n",
    "    def _get_num_nodes(self) -> int:\n",
    "        # Get the number of nodes\n",
    "        return len(self._nodes_features)\n",
    "\n",
    "    def _get_num_edges(self) -> int:\n",
    "        # Get the number of edges\n",
    "        return len(self._adjacency_list)\n",
    "\n",
    "    def _get_nodes_feat_dim(self) -> int:\n",
    "        # Get the feature dimension of nodes\n",
    "        return self._nodes_features.shape[1] if self._nodes_features.ndim > 1 else 0\n",
    "\n",
    "    def _get_edges_feat_dim(self) -> int:\n",
    "        # Get the feature dimension of edges\n",
    "        return self._edges_features.shape[1] if self._edges_features.ndim > 1 else 0\n",
    "\n",
    "    def _get_global_feat_dim(self) -> int:\n",
    "        # Get the feature dimension of global features\n",
    "        return self._global_features.shape[0] if self._global_features.ndim > 0 else 0\n",
    "\n",
    "    @property\n",
    "    def nodes_features(self) -> np.ndarray:\n",
    "        return self._nodes_features\n",
    "\n",
    "    @nodes_features.setter\n",
    "    def nodes_features(self, nodes_features: np.ndarray):\n",
    "        self._nodes_features = nodes_features\n",
    "        self._num_nodes = self._get_num_nodes()\n",
    "        self._nodes_feat_dim = self._get_nodes_feat_dim()\n",
    "\n",
    "    @property\n",
    "    def edges_features(self) -> np.ndarray:\n",
    "        return self._edges_features\n",
    "\n",
    "    @edges_features.setter\n",
    "    def edges_features(self, edges_features: np.ndarray):\n",
    "        self._edges_features = edges_features\n",
    "        self._edges_feat_dim = self._get_edges_feat_dim()\n",
    "\n",
    "    @property\n",
    "    def global_features(self) -> np.ndarray:\n",
    "        return self._global_features\n",
    "\n",
    "    @global_features.setter\n",
    "    def global_features(self, global_features: np.ndarray):\n",
    "        self._global_features = global_features\n",
    "        self._global_feat_dim = self._get_global_feat_dim()\n",
    "\n",
    "    @property\n",
    "    def adjacency_list(self) -> Union[List[List[int]], dict]:\n",
    "        return self._adjacency_list\n",
    "\n",
    "    @adjacency_list.setter\n",
    "    def adjacency_list(self, adjacency_list: Union[List[List[int]], dict]):\n",
    "        self._adjacency_list = adjacency_list\n",
    "        self._num_edges = self._get_num_edges()\n",
    "\n",
    "    def __repr__(self):\n",
    "        return (f\"Graph(num_nodes={self._num_nodes}, num_edges={self._num_edges}, \"\n",
    "                f\"nodes_feat_dim={self._nodes_feat_dim}, edges_feat_dim={self._edges_feat_dim}, \"\n",
    "                f\"global_feat_dim={self._global_feat_dim})\")"
   ]
  },
  {
   "cell_type": "code",
   "execution_count": 55,
   "metadata": {},
   "outputs": [],
   "source": [
    "# graph embbedings\n",
    "nodes_features = np.array([(1, 25), (0, 43), (0, 8), (1, 18)])\n",
    "adjacency_list = np.array([(1, 2), (1, 3), (2, 3), (3, 4)])\n",
    "edges_features = np.array([0.3, 0.7, 0.1, 0.6])\n",
    "global_features = np.array(['Neutro', 'Animal', 523])\n",
    "\n",
    "# initialize Graph object\n",
    "graph = Graph(nodes_features, adjacency_list, edges_features, global_features)"
   ]
  },
  {
   "cell_type": "code",
   "execution_count": 58,
   "metadata": {},
   "outputs": [
    {
     "data": {
      "image/png": "[encoded data removed]",
      "text/plain": [
       "<Figure size 500x300 with 1 Axes>"
      ]
     },
     "metadata": {},
     "output_type": "display_data"
    }
   ],
   "source": [
    "G = nx.Graph()\n",
    "G.add_edges_from(graph.adjacency_list)\n",
    "pos = {1: (0, 0), 2: (-1, 0.1), 3: (2, 0.05), 4: (4, 0.1)}\n",
    "\n",
    "for node_id, feature_value in enumerate(graph.nodes_features):\n",
    "    G.nodes[node_id+1]['feature'] = feature_value\n",
    "\n",
    "options = {\n",
    "    \"font_size\": 15,\n",
    "    \"node_size\": 500,\n",
    "    \"node_color\": \"yellow\",\n",
    "    \"edgecolors\": \"black\",\n",
    "    \"linewidths\": 2,\n",
    "    \"width\": 2,\n",
    "}\n",
    "\n",
    "plt.figure(figsize=(5, 3))\n",
    "plt.axis(\"off\")\n",
    "nx.draw_networkx(G, pos, **options)\n",
    "for node_id, feature_value in enumerate(graph.nodes_features):\n",
    "    x, y = pos[node_id + 1]\n",
    "    plt.text(x+0.35, y, f'[{feature_value[0]}, {feature_value[1]}]', fontsize=12,\n",
    "             ha='left', va='center', bbox=dict(facecolor='gray', alpha=0, linewidth=0))\n",
    "\n",
    "for idx, (u, v) in enumerate(G.edges()):\n",
    "    x = (pos[u][0] + pos[v][0]) / 2 + 0.4\n",
    "    y = (pos[u][1] + pos[v][1]) / 2\n",
    "    plt.text(x, y, f'{edges_features[idx]}', fontsize=12, color='red',\n",
    "             ha='center', va='center', bbox=dict(facecolor='white', alpha=0, linewidth=0))\n",
    "\n",
    "global_features = graph.global_features\n",
    "global_features_str = ', '.join(str(feat) for feat in global_features)\n",
    "plt.text(2.5, 0, f'Global Features: [{global_features_str}]')\n",
    "\n",
    "plt.show()\n"
   ]
  },
  {
   "cell_type": "code",
   "execution_count": 103,
   "metadata": {},
   "outputs": [],
   "source": [
    "# MLP Layer class\n",
    "class MLP():\n",
    "    def __init__(self, w_matrix_shape, b_vector_shape):\n",
    "        self.w_matrix = np.random.randn(*w_matrix_shape)\n",
    "        self.b_vector = np.random.randn(*b_vector_shape)\n"
   ]
  },
  {
   "cell_type": "code",
   "execution_count": 104,
   "metadata": {},
   "outputs": [
    {
     "data": {
      "text/plain": [
       "2"
      ]
     },
     "execution_count": 104,
     "metadata": {},
     "output_type": "execute_result"
    }
   ],
   "source": [
    "graph._nodes_feat_dim"
   ]
  },
  {
   "cell_type": "code",
   "execution_count": 115,
   "metadata": {},
   "outputs": [
    {
     "name": "stdout",
     "output_type": "stream",
     "text": [
      "MLP weights matrix:\n",
      "[[-0.71664824  2.26872987]\n",
      " [ 0.6009826   0.48798949]] \n",
      "\n",
      "MLP bias vector:\n",
      "[-1.26386857 -0.49328976]\n"
     ]
    }
   ],
   "source": [
    "# Nodes MLP\n",
    "w_matrix_shape = (graph._nodes_feat_dim, graph._nodes_feat_dim)\n",
    "b_vector_shape = (graph._nodes_feat_dim,)\n",
    "nodes_mlp = MLP(w_matrix_shape, b_vector_shape)\n",
    "\n",
    "print(f'MLP weights matrix:')\n",
    "print(nodes_mlp.w_matrix, '\\n')\n",
    "print(f'MLP bias vector:')\n",
    "print(nodes_mlp.b_vector)"
   ]
  },
  {
   "cell_type": "code",
   "execution_count": 108,
   "metadata": {},
   "outputs": [
    {
     "name": "stdout",
     "output_type": "stream",
     "text": [
      "Valor Inicial:\n",
      "[ 1 25]\n"
     ]
    }
   ],
   "source": [
    "# Ejemplo Nodo 1\n",
    "print('Valor Inicial:')\n",
    "print(graph.nodes_features[0])"
   ]
  },
  {
   "cell_type": "code",
   "execution_count": 129,
   "metadata": {},
   "outputs": [
    {
     "name": "stdout",
     "output_type": "stream",
     "text": [
      "Weights Matrix:\n",
      "[[-0.71664824  2.26872987]\n",
      " [ 0.6009826   0.48798949]] \n",
      "\n",
      "Bias Vector:\n",
      "[-1.26386857 -0.49328976]\n"
     ]
    }
   ],
   "source": [
    "# Matrix the pesos\n",
    "print('Weights Matrix:')\n",
    "print(nodes_mlp.w_matrix, '\\n')\n",
    "\n",
    "print('Bias Vector:')\n",
    "print(nodes_mlp.b_vector)"
   ]
  },
  {
   "cell_type": "code",
   "execution_count": 130,
   "metadata": {},
   "outputs": [
    {
     "name": "stdout",
     "output_type": "stream",
     "text": [
      "New Node 1 Features Values:\n",
      "[54.7377299 12.3074301]\n"
     ]
    }
   ],
   "source": [
    "# Apply the MLP layer\n",
    "print('New Node 1 Features Values:')\n",
    "new_node_1_features = np.dot(nodes_mlp.w_matrix,graph.nodes_features[0]) + nodes_mlp.b_vector\n",
    "print(new_node_1_features)"
   ]
  },
  {
   "cell_type": "code",
   "execution_count": 131,
   "metadata": {},
   "outputs": [
    {
     "name": "stdout",
     "output_type": "stream",
     "text": [
      "(2, 2)\n",
      "(2, 1)\n",
      "\n",
      "\n",
      "[54.7377299 12.3074301]\n",
      "[[54.7377299]\n",
      " [12.3074301]]\n"
     ]
    }
   ],
   "source": [
    "print(nodes_mlp.w_matrix.shape)\n",
    "print(graph.nodes_features[0].reshape(-1,1).shape)\n",
    "print('\\n')\n",
    "print(np.dot(nodes_mlp.w_matrix,graph.nodes_features[0])+nodes_mlp.b_vector)\n",
    "print(np.dot(nodes_mlp.w_matrix,graph.nodes_features[0].reshape(-1,1))+nodes_mlp.b_vector.reshape(-1,1))"
   ]
  },
  {
   "cell_type": "code",
   "execution_count": 73,
   "metadata": {},
   "outputs": [],
   "source": [
    "from ann_visualizer.visualize import ann_viz\n",
    "from keras.models import Sequential\n",
    "from keras.layers import Dense\n",
    "import tf2onnx\n",
    "\n",
    "\n",
    "model = Sequential()\n",
    "model.add(Dense(2, input_dim=2, activation='relu'))\n",
    "model.add(Dense(1, activation='sigmoid'))\n",
    "\n",
    "# Save the model to ONNX format\n",
    "onnx_model, _ = tf2onnx.convert.from_keras(model, opset=13)\n",
    "onnx_model_path = \"model.onnx\"\n",
    "\n",
    "# Save the ONNX model to a file\n",
    "with open(onnx_model_path, \"wb\") as f:\n",
    "    f.write(onnx_model.SerializeToString())"
   ]
  },
  {
   "cell_type": "code",
   "execution_count": 79,
   "metadata": {},
   "outputs": [],
   "source": [
    "ann_viz(model, view=False, filename=\"network.gv\")"
   ]
  },
  {
   "cell_type": "code",
   "execution_count": 83,
   "metadata": {},
   "outputs": [
    {
     "data": {
      "image/png": "[encoded data removed]",
      "text/plain": [
       "<Figure size 640x480 with 1 Axes>"
      ]
     },
     "metadata": {},
     "output_type": "display_data"
    }
   ],
   "source": [
    "import networkx as nx\n",
    "import matplotlib.pyplot as plt\n",
    "\n",
    "# Create a directed graph\n",
    "G = nx.DiGraph()\n",
    "\n",
    "# Add input layer nodes\n",
    "G.add_node('I1', pos=(0, 1))  # Input neuron 1\n",
    "G.add_node('I2', pos=(0, 0))  # Input neuron 2\n",
    "\n",
    "# Add hidden layer nodes\n",
    "G.add_node('H1', pos=(1, 1))  # Hidden neuron 1\n",
    "G.add_node('H2', pos=(1, 0))  # Hidden neuron 2\n",
    "\n",
    "# Add weights and biases\n",
    "G.add_weighted_edges_from([('I1', 'H1', 'w11'), ('I1', 'H2', 'w12'), \n",
    "                           ('I2', 'H1', 'w21'), ('I2', 'H2', 'w22')])\n",
    "G.add_node('b1', pos=(1.5, 1))  # Bias for H1\n",
    "G.add_node('b2', pos=(1.5, 0))  # Bias for H2\n",
    "G.add_edge('b1', 'H1', weight='b1')\n",
    "G.add_edge('b2', 'H2', weight='b2')\n",
    "\n",
    "# Position the nodes\n",
    "pos = nx.get_node_attributes(G, 'pos')\n",
    "\n",
    "# Draw the graph\n",
    "nx.draw(G, pos, with_labels=True, node_size=1500, node_color='skyblue', font_size=10)\n",
    "labels = nx.get_edge_attributes(G, 'weight')\n",
    "nx.draw_networkx_edge_labels(G, pos, edge_labels=labels)\n",
    "\n",
    "plt.title('Neural Network Diagram')\n",
    "plt.show()\n"
   ]
  },
  {
   "cell_type": "code",
   "execution_count": 132,
   "metadata": {},
   "outputs": [
    {
     "data": {
      "text/plain": [
       "'audience_recommendation_system.gv.pdf'"
      ]
     },
     "execution_count": 132,
     "metadata": {},
     "output_type": "execute_result"
    }
   ],
   "source": [
    "from graphviz import Digraph\n",
    "\n",
    "# Crear un nuevo gráfico dirigido\n",
    "dot = Digraph(comment='Audiences in Recommendation Systems')\n",
    "\n",
    "# Fuentes de datos\n",
    "dot.node('A', 'Data Sources')\n",
    "dot.node('B', 'Demographic Data')\n",
    "dot.node('C', 'Purchase Behavior')\n",
    "dot.node('D', 'Google Analytics Data')\n",
    "dot.node('E', 'Other Businesses Data (Paris, Easy)')\n",
    "\n",
    "# Segmentación de audiencia\n",
    "dot.node('F', 'Audience Segmentation')\n",
    "\n",
    "# Motor de recomendaciones\n",
    "dot.node('G', 'Recommendation Engine')\n",
    "\n",
    "# Salida\n",
    "dot.node('H', 'Personalized Recommendations')\n",
    "\n",
    "# Crear las conexiones\n",
    "dot.edges(['AB', 'AC', 'AD', 'AE'])  # Conexiones desde Data Sources a cada tipo de dato\n",
    "dot.edge('B', 'F', 'Demographic Data')\n",
    "dot.edge('C', 'F', 'Purchase Behavior')\n",
    "dot.edge('D', 'F', 'Google Analytics Data')\n",
    "dot.edge('E', 'F', 'Other Businesses Data')\n",
    "\n",
    "dot.edge('F', 'G', 'Segmented Audiences')\n",
    "dot.edge('G', 'H', 'Recommendations')\n",
    "\n",
    "# Renderizar el gráfico a un archivo\n",
    "dot.render('audience_recommendation_system.gv', view=True)"
   ]
  },
  {
   "cell_type": "code",
   "execution_count": null,
   "metadata": {},
   "outputs": [],
   "source": []
  }
 ],
 "metadata": {
  "kernelspec": {
   "display_name": "Python 3.9.5 64-bit",
   "language": "python",
   "name": "python3"
  },
  "language_info": {
   "codemirror_mode": {
    "name": "ipython",
    "version": 3
   },
   "file_extension": ".py",
   "mimetype": "text/x-python",
   "name": "python",
   "nbconvert_exporter": "python",
   "pygments_lexer": "ipython3",
   "version": "3.9.5"
  },
  "orig_nbformat": 4,
  "vscode": {
   "interpreter": {
    "hash": "1f758622e81a86107849d79f5a8bc239e47ac720cad7020e08733b9d21dc7ef0"
   }
  }
 },
 "nbformat": 4,
 "nbformat_minor": 2
}
